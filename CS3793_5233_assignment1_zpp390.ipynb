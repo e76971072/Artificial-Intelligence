{
  "nbformat": 4,
  "nbformat_minor": 0,
  "metadata": {
    "colab": {
      "name": "CS3793_5233_assignment1_zpp390.ipynb",
      "provenance": [],
      "collapsed_sections": [],
      "toc_visible": true,
      "include_colab_link": true
    },
    "kernelspec": {
      "name": "python3",
      "display_name": "Python 3"
    }
  },
  "cells": [
    {
      "cell_type": "markdown",
      "metadata": {
        "id": "view-in-github",
        "colab_type": "text"
      },
      "source": [
        "<a href=\"https://colab.research.google.com/github/e76971072/Artificial-Intelligence/blob/master/CS3793_5233_assignment1_zpp390.ipynb\" target=\"_parent\"><img src=\"https://colab.research.google.com/assets/colab-badge.svg\" alt=\"Open In Colab\"/></a>"
      ]
    },
    {
      "cell_type": "markdown",
      "metadata": {
        "id": "9wUL_Fy5qUDI",
        "colab_type": "text"
      },
      "source": [
        "# UTSA CS 3793/5233: Assignment-1\n",
        "\n",
        "Summer 2020\n",
        "\n",
        "\n",
        "**Nguyen - Kevin - (zpp390123)**\n",
        "\n",
        "\n",
        "\n",
        "\n"
      ]
    },
    {
      "cell_type": "markdown",
      "metadata": {
        "id": "NM8b9KVYsETT",
        "colab_type": "text"
      },
      "source": [
        "## Learning Objectives\n",
        "\n",
        "\n",
        "*   Read data from a file and Create a graph\n",
        "*   Implement Uninformed & Informed searching strategies\n",
        "*   Apply different searching strategies for the given problem\n",
        "*   Analyze and Compare the searching strategies\n"
      ]
    },
    {
      "cell_type": "markdown",
      "metadata": {
        "id": "LzR4Ic34zJlT",
        "colab_type": "text"
      },
      "source": [
        "\n",
        "## Description\n",
        "\n",
        "This assignment is focused on **python file reading, graph creation** and implementation of **search algorithms**. \n",
        "In the following sections, you will complete a series of tasks for a made up problem of *Coronavirus in Texas*.\n",
        "\n",
        "*   Coronavirus is non-discriminatory, in the sense that it can spread from one city to any other city. The only goal of the virus is to spread to all cities in Texas. Find a possible way for the virus to spread (Uninformed Search).\n",
        "*   To counter the effect of the virus, a vaccine was developed and brought to a port city of Texas. The vaccine should be distributed in the fastest way possible to the worst affect city of Texas. Find an **optimal** strategy to distribute the vaccine (Informed Search).\n",
        "\n",
        "The base structure and comments are provided on what should be done. You can use some libraries that help support you for the successful completion of the assignment. However, you **CANNOT** use a complete library for the search algorithms. You can get pieces of code from online, but please cite the source properly.\n"
      ]
    },
    {
      "cell_type": "markdown",
      "metadata": {
        "id": "YeYRnesWqvLm",
        "colab_type": "text"
      },
      "source": [
        "#Reading Data Files & Creating a 2D Graph\n",
        "\n",
        "---\n",
        "\n",
        "\n",
        "\n",
        "##(40 points)\n",
        "\n",
        "In this section, you will write code to read the data files provided, cities.csv and distances.csv, and create a 2D graph consisting of nodes and edges. The goal is to use this graph for the 2 search agents that you will create in the next section.\n",
        "\n",
        "Provided with this lab, on Blackboard, you will find 2 csv files:\n",
        "\n",
        "*   **cities.csv** - This file contains a list of coordinates for selected cities in Texas, in the following format:\n",
        "```\n",
        "San Antonio,29.4685,-98.5254\n",
        "```\n",
        "The above line means that San Antonio is located at the latitude and longitude of 29.4685 N and 98.5254 W respectively. Note that the '-ve' sign denotes 'S' for latitude and 'W' for longitude. While performing calculations you will need to ignore the sign.\n",
        "\n",
        "*   **distances.csv** - This file contains straight-line distance values between two cities of Texas, if a path exists, in the following format:\n",
        "```\n",
        "San Antonio,New Braunfels,30.80876734\n",
        "```\n",
        "The above line denotes that there should be an edge between *San Antonio* and *New Braunfels* and the weight on that edge, i.e. the distance, is *30.80876734*.\n",
        "\n",
        "In the code blocks below, handle the logic for the graph. Load the graph data from the give files and display a 2D graph of the given data, with labeled nodes and edges. Create as many functions or code blocks as needed.\n",
        "\n",
        "##Extra Credit (4 points)\n",
        "\n",
        "Overlay the 2D graph on an image of the Texas state map.\n",
        "\n",
        "\n",
        "\n"
      ]
    },
    {
      "cell_type": "code",
      "metadata": {
        "id": "LZGmz2tgh5tR",
        "colab_type": "code",
        "colab": {
          "base_uri": "https://localhost:8080/",
          "height": 343
        },
        "outputId": "742fa453-4e44-48c3-89ae-94e09e77b194"
      },
      "source": [
        "# install package needed \n",
        "!pip3 install numpy\n",
        "!pip3 install mathplot \n",
        "!pip3 install pandas\n",
        "!pip3 install plotly\n"
      ],
      "execution_count": 7,
      "outputs": [
        {
          "output_type": "stream",
          "text": [
            "Requirement already satisfied: numpy in /usr/local/lib/python3.6/dist-packages (1.18.5)\n",
            "Collecting mathplot\n",
            "  Downloading https://files.pythonhosted.org/packages/59/89/b9b01bdc8ade107dabfc47d03746c7dbab012655253b79aa6a28ab210dd8/mathplot-0.1.tar.gz\n",
            "Building wheels for collected packages: mathplot\n",
            "  Building wheel for mathplot (setup.py) ... \u001b[?25l\u001b[?25hdone\n",
            "  Created wheel for mathplot: filename=mathplot-0.1-cp36-none-any.whl size=4755 sha256=379207691c4f4ac8c7bf1694e6afa3dda1e90fdc80a92f60cd99f4eace4a8ef8\n",
            "  Stored in directory: /root/.cache/pip/wheels/3d/19/6b/afc597c155f340e6a07023e7b7824a32b8183aad504f3459fe\n",
            "Successfully built mathplot\n",
            "Installing collected packages: mathplot\n",
            "Successfully installed mathplot-0.1\n",
            "Requirement already satisfied: pandas in /usr/local/lib/python3.6/dist-packages (1.0.4)\n",
            "Requirement already satisfied: pytz>=2017.2 in /usr/local/lib/python3.6/dist-packages (from pandas) (2018.9)\n",
            "Requirement already satisfied: python-dateutil>=2.6.1 in /usr/local/lib/python3.6/dist-packages (from pandas) (2.8.1)\n",
            "Requirement already satisfied: numpy>=1.13.3 in /usr/local/lib/python3.6/dist-packages (from pandas) (1.18.5)\n",
            "Requirement already satisfied: six>=1.5 in /usr/local/lib/python3.6/dist-packages (from python-dateutil>=2.6.1->pandas) (1.12.0)\n",
            "Requirement already satisfied: plotly in /usr/local/lib/python3.6/dist-packages (4.4.1)\n",
            "Requirement already satisfied: retrying>=1.3.3 in /usr/local/lib/python3.6/dist-packages (from plotly) (1.3.3)\n",
            "Requirement already satisfied: six in /usr/local/lib/python3.6/dist-packages (from plotly) (1.12.0)\n"
          ],
          "name": "stdout"
        }
      ]
    },
    {
      "cell_type": "code",
      "metadata": {
        "id": "YdPwgSBOtb1P",
        "colab_type": "code",
        "colab": {}
      },
      "source": [
        "# Load the graph data from the files\n",
        "# Clearly indicate, with comment, where you are accessing the data files\n",
        "# Assume that the data files are in the SAME folder as this ipynb file\n",
        "\n"
      ],
      "execution_count": 8,
      "outputs": []
    },
    {
      "cell_type": "code",
      "metadata": {
        "id": "f9apbZGptej6",
        "colab_type": "code",
        "colab": {
          "resources": {
            "http://localhost:8080/nbextensions/google.colab/files.js": {
              "data": "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",
              "ok": true,
              "headers": [
                [
                  "content-type",
                  "application/javascript"
                ]
              ],
              "status": 200,
              "status_text": ""
            }
          },
          "base_uri": "https://localhost:8080/",
          "height": 106
        },
        "outputId": "7a33c1d9-2243-4d02-de0a-31f03b8864e3"
      },
      "source": [
        "# Add only your imports here\n",
        "import numpy as np \n",
        "import mathplot as mpl \n",
        "from google.colab import files\n",
        "import pandas as pd\n",
        "\n",
        "\n",
        "uploaded = files.upload()  # import citites.csv and distances.csv  \n",
        "\n",
        "\n",
        "\n",
        "\n",
        "\n",
        "\n"
      ],
      "execution_count": 9,
      "outputs": [
        {
          "output_type": "display_data",
          "data": {
            "text/html": [
              "\n",
              "     <input type=\"file\" id=\"files-f4e893df-dfd6-49da-8d31-d4013243da7b\" name=\"files[]\" multiple disabled\n",
              "        style=\"border:none\" />\n",
              "     <output id=\"result-f4e893df-dfd6-49da-8d31-d4013243da7b\">\n",
              "      Upload widget is only available when the cell has been executed in the\n",
              "      current browser session. Please rerun this cell to enable.\n",
              "      </output>\n",
              "      <script src=\"/nbextensions/google.colab/files.js\"></script> "
            ],
            "text/plain": [
              "<IPython.core.display.HTML object>"
            ]
          },
          "metadata": {
            "tags": []
          }
        },
        {
          "output_type": "stream",
          "text": [
            "Saving cities.csv to cities.csv\n",
            "Saving distances.csv to distances.csv\n"
          ],
          "name": "stdout"
        }
      ]
    },
    {
      "cell_type": "code",
      "metadata": {
        "id": "HsPCrkwIn7MN",
        "colab_type": "code",
        "colab": {
          "base_uri": "https://localhost:8080/",
          "height": 1000
        },
        "outputId": "023f063c-0fb0-4444-d59d-f8ab1cc1f2c2"
      },
      "source": [
        "import pandas as pd\n",
        "import plotly.express as px\n",
        "\n",
        "columns_city  =  [\"City\", \"Lat\", \"Lon\"]\n",
        "us_cities = pd.read_csv(\"cities.csv\", names= columns_city)\n",
        "columns_distances = [\"Origin\", \"Destination\", \"Distance\"]\n",
        "distances = pd.read_csv (\"distances.csv\", names= columns_distances)\n",
        "\n",
        "us_cities['State'] = \"Texas\"\n",
        "\n",
        "for i in range (len(distances)): \n",
        "  row_origin = us_cities.loc[(us_cities['City'] == distances.loc [i, \"Origin\"])]\n",
        "  row_dest = us_cities.loc[(us_cities['City'] == distances.loc [i, \"Destination\"]) ]\n",
        "\n",
        "  print (row_origin[\"Lat\"])\n",
        "  print (row_dest[\"Lon\"])\n",
        "\n",
        "#   d = {'City': [ row_origin.loc[\"City\"], row_dest.loc[\"City\"]], 'Lat': [row_origin.loc[\"Lat\"], row_dest.loc[\"Lat\"]], 'Lon': [row_origin.loc[\"Lon\"],row_dest.loc[\"Lon\"]], \"State\": [\"Texas\", \"Texas\"]}\n",
        "                                                                                                                             \n",
        "#   fig = px.line_mapbox(d , text= [\"Austin\", \"San Antonio\"], lat=\"Lat\", lon=\"Lon\", title=\"City\",  color=\"State\", zoom=3, width = 800, height=700)\n",
        "\n",
        "\n",
        "#   fig.update_layout(mapbox_style=\"stamen-terrain\", mapbox_zoom=5, mapbox_center_lat = 31.9686,mapbox_center_lon = -99.9018, \n",
        "#       margin={\"r\":0,\"t\":0,\"l\":0,\"b\":0})\n",
        "\n",
        "# fig.show()"
      ],
      "execution_count": 4,
      "outputs": [
        {
          "output_type": "stream",
          "text": [
            "27    31.4426\n",
            "Name: Lat, dtype: float64\n",
            "22   -102.1137\n",
            "Name: Lon, dtype: float64\n",
            "27    31.4426\n",
            "Name: Lat, dtype: float64\n",
            "20   -101.8871\n",
            "Name: Lon, dtype: float64\n",
            "27    31.4426\n",
            "Name: Lat, dtype: float64\n",
            "0   -99.7384\n",
            "Name: Lon, dtype: float64\n",
            "27    31.4426\n",
            "Name: Lat, dtype: float64\n",
            "28   -98.5254\n",
            "Name: Lon, dtype: float64\n",
            "28    29.4658\n",
            "Name: Lat, dtype: float64\n",
            "23   -98.1148\n",
            "Name: Lon, dtype: float64\n",
            "28    29.4658\n",
            "Name: Lat, dtype: float64\n",
            "30   -97.9661\n",
            "Name: Lon, dtype: float64\n",
            "28    29.4658\n",
            "Name: Lat, dtype: float64\n",
            "34   -98.1784\n",
            "Name: Lon, dtype: float64\n",
            "28    29.4658\n",
            "Name: Lat, dtype: float64\n",
            "35   -99.7782\n",
            "Name: Lon, dtype: float64\n",
            "3    30.3006\n",
            "Name: Lat, dtype: float64\n",
            "29   -97.938\n",
            "Name: Lon, dtype: float64\n",
            "3    30.3006\n",
            "Name: Lat, dtype: float64\n",
            "26   -97.6659\n",
            "Name: Lon, dtype: float64\n",
            "3    30.3006\n",
            "Name: Lat, dtype: float64\n",
            "6   -96.296\n",
            "Name: Lon, dtype: float64\n",
            "3    30.3006\n",
            "Name: Lat, dtype: float64\n",
            "16   -95.3905\n",
            "Name: Lon, dtype: float64\n",
            "32    31.1076\n",
            "Name: Lat, dtype: float64\n",
            "37   -97.1882\n",
            "Name: Lon, dtype: float64\n",
            "6    30.5852\n",
            "Name: Lat, dtype: float64\n",
            "37   -97.1882\n",
            "Name: Lon, dtype: float64\n",
            "6    30.5852\n",
            "Name: Lat, dtype: float64\n",
            "16   -95.3905\n",
            "Name: Lon, dtype: float64\n",
            "16    29.7869\n",
            "Name: Lat, dtype: float64\n",
            "4   -94.1451\n",
            "Name: Lon, dtype: float64\n",
            "16    29.7869\n",
            "Name: Lat, dtype: float64\n",
            "14   -95.1979\n",
            "Name: Lon, dtype: float64\n",
            "16    29.7869\n",
            "Name: Lat, dtype: float64\n",
            "7   -96.5563\n",
            "Name: Lon, dtype: float64\n",
            "16    29.7869\n",
            "Name: Lat, dtype: float64\n",
            "31   -95.6357\n",
            "Name: Lon, dtype: float64\n",
            "36    28.8285\n",
            "Name: Lat, dtype: float64\n",
            "15   -97.4472\n",
            "Name: Lon, dtype: float64\n",
            "15    29.5126\n",
            "Name: Lat, dtype: float64\n",
            "30   -97.9661\n",
            "Name: Lon, dtype: float64\n",
            "8    27.7261\n",
            "Name: Lat, dtype: float64\n",
            "36   -96.985\n",
            "Name: Lon, dtype: float64\n",
            "8    27.7261\n",
            "Name: Lat, dtype: float64\n",
            "34   -98.1784\n",
            "Name: Lon, dtype: float64\n",
            "1    27.7556\n",
            "Name: Lat, dtype: float64\n",
            "19   -99.4874\n",
            "Name: Lon, dtype: float64\n",
            "1    27.7556\n",
            "Name: Lat, dtype: float64\n",
            "34   -98.1784\n",
            "Name: Lon, dtype: float64\n",
            "1    27.7556\n",
            "Name: Lat, dtype: float64\n",
            "21   -98.2471\n",
            "Name: Lon, dtype: float64\n",
            "19    27.5617\n",
            "Name: Lat, dtype: float64\n",
            "21   -98.2471\n",
            "Name: Lon, dtype: float64\n",
            "11    29.3708\n",
            "Name: Lat, dtype: float64\n",
            "35   -99.7782\n",
            "Name: Lon, dtype: float64\n",
            "12    31.8479\n",
            "Name: Lat, dtype: float64\n",
            "24   -102.3406\n",
            "Name: Lon, dtype: float64\n",
            "21    26.2273\n",
            "Name: Lat, dtype: float64\n",
            "5   -97.4565\n",
            "Name: Lon, dtype: float64\n",
            "37    31.5597\n",
            "Name: Lat, dtype: float64\n",
            "25   -95.6471\n",
            "Name: Lon, dtype: float64\n",
            "37    31.5597\n",
            "Name: Lat, dtype: float64\n",
            "13   -97.3472\n",
            "Name: Lon, dtype: float64\n",
            "37    31.5597\n",
            "Name: Lat, dtype: float64\n",
            "10   -96.7662\n",
            "Name: Lon, dtype: float64\n",
            "10    32.7936\n",
            "Name: Lat, dtype: float64\n",
            "13   -97.3472\n",
            "Name: Lon, dtype: float64\n",
            "20    33.5642\n",
            "Name: Lat, dtype: float64\n",
            "22   -102.1137\n",
            "Name: Lon, dtype: float64\n",
            "20    33.5642\n",
            "Name: Lat, dtype: float64\n",
            "2   -101.831\n",
            "Name: Lon, dtype: float64\n",
            "2    35.1989\n",
            "Name: Lat, dtype: float64\n",
            "9   -102.5123\n",
            "Name: Lon, dtype: float64\n",
            "13    32.7812\n",
            "Name: Lat, dtype: float64\n",
            "38   -98.529\n",
            "Name: Lon, dtype: float64\n",
            "22    32.0249\n",
            "Name: Lat, dtype: float64\n",
            "24   -102.3406\n",
            "Name: Lon, dtype: float64\n",
            "29    29.8736\n",
            "Name: Lat, dtype: float64\n",
            "23   -98.1148\n",
            "Name: Lon, dtype: float64\n",
            "29    29.8736\n",
            "Name: Lat, dtype: float64\n",
            "15   -97.4472\n",
            "Name: Lon, dtype: float64\n",
            "23    29.6997\n",
            "Name: Lat, dtype: float64\n",
            "30   -97.9661\n",
            "Name: Lon, dtype: float64\n",
            "7    29.7055\n",
            "Name: Lat, dtype: float64\n",
            "30   -97.9661\n",
            "Name: Lon, dtype: float64\n",
            "14    29.5112\n",
            "Name: Lat, dtype: float64\n",
            "17   -94.9801\n",
            "Name: Lon, dtype: float64\n",
            "33    33.4487\n",
            "Name: Lat, dtype: float64\n",
            "10   -96.7662\n",
            "Name: Lon, dtype: float64\n",
            "34    28.4668\n",
            "Name: Lat, dtype: float64\n",
            "18   -97.8518\n",
            "Name: Lon, dtype: float64\n",
            "26    30.5254\n",
            "Name: Lat, dtype: float64\n",
            "32   -97.3894\n",
            "Name: Lon, dtype: float64\n"
          ],
          "name": "stdout"
        }
      ]
    },
    {
      "cell_type": "markdown",
      "metadata": {
        "id": "onnqJYTEq0l3",
        "colab_type": "text"
      },
      "source": [
        "#Virus Spread - Uninformed Search Agent\n",
        "\n",
        "##(40 points)\n",
        "\n",
        "In this section, you will use the graph created in the previous section and create an *uninformed search* agent that will print the path how the virus will spread to all the provided Texas cities. The first confirmed case of the virus was in **Three Rivers** and starts spreading from there. The virus does not discriminate and it needs to spread to all the cities of Texas.\n",
        "\n",
        "In the following code block, write code to implement **any** uninformed search strategy. You are free to create more code blocks if needed. As the output, print\n",
        "\n",
        "*   The path or sequence of cities that will be infected by the spread of Coronavirus.\n",
        "*   The distance travelled by the selected virus spreading strategy.\n",
        "\n",
        "##Extra Credit (3 points)\n",
        "On the 2D graph and the Texas state map, overlay the selected path along with the cities visited."
      ]
    },
    {
      "cell_type": "code",
      "metadata": {
        "id": "XELGzRDftS77",
        "colab_type": "code",
        "colab": {}
      },
      "source": [
        "# Implement ANY uninformed search strategy for the spread of coronavirus from the starting city of 'Three Rivers'\n",
        "\n"
      ],
      "execution_count": 11,
      "outputs": []
    },
    {
      "cell_type": "markdown",
      "metadata": {
        "id": "YCsUNyl3KWrb",
        "colab_type": "text"
      },
      "source": [
        "#Vaccine Distribution - Informed Search Agent\n",
        "\n",
        "##(40 points)\n",
        "\n",
        "In this section, you will create an *informed search* agent that will be used to distribute the vaccine. The vaccine was developed outside US and brought to Texas at the port city of **Corpus Christi**. The goal is to create an **optimal strategy** to distribute the vaccine and make it available at the most affected city **Amarillo**.\n",
        "\n",
        "In the following code block, write code to implement an **optimal** informed search strategy. You are free to create more code blocks if needed. As the output, print \n",
        "\n",
        "*   The path or sequence of cities that will be visited in the optimal vaccine distribution strategy.\n",
        "*   The total distance travelled in the optimal vaccine distribution strategy.\n",
        "\n",
        "\n",
        "##Extra Credit (3 points)\n",
        "On the 2D graph and the Texas state map, overlay the selected path along with the cities visited."
      ]
    },
    {
      "cell_type": "code",
      "metadata": {
        "id": "oYcy29SdK3Xn",
        "colab_type": "code",
        "colab": {}
      },
      "source": [
        "# Implement an OPTIMAL informed search strategy for distributing the vaccine from 'Corpus Chriti' to 'Amarillo'\n",
        "\n"
      ],
      "execution_count": 12,
      "outputs": []
    },
    {
      "cell_type": "markdown",
      "metadata": {
        "id": "YJSFgNBQrhQU",
        "colab_type": "text"
      },
      "source": [
        "#Submission Instructions\n",
        "\n",
        "\n",
        "\n",
        "1.   Complete all tasks above.\n",
        "2.   Export this notebook as .ipynb\n",
        "      (File > Download as ipynb)\n",
        "3.   Upload the .ipynb file on Blackboard\n",
        "\n"
      ]
    },
    {
      "cell_type": "markdown",
      "metadata": {
        "id": "0lGvLE9H6ptL",
        "colab_type": "text"
      },
      "source": [
        "##Rubric\n",
        "\n",
        "*   (40 points) Reading Data files & Creating a 2D Graph\n",
        "*   (40 points) Virus Spread - Uninformed Search Agent\n",
        "*   (40 points) Vaccine Distribution - Informed Search Agent\n",
        "*   (10 points) Extra Credit - on the Texas map image, overlay the 2D graph and the paths selected by the search agents\n",
        "\n",
        "\n",
        "\n"
      ]
    }
  ]
}